{
  "nbformat": 4,
  "nbformat_minor": 0,
  "metadata": {
    "colab": {
      "name": "1-1. 데이터 분석으로 심부전증을 예방할 수 있을까.ipynb",
      "provenance": [],
      "collapsed_sections": [],
      "toc_visible": true,
      "authorship_tag": "ABX9TyMvIaMF4HWfH06Yavj+8nrw",
      "include_colab_link": true
    },
    "kernelspec": {
      "name": "python3",
      "display_name": "Python 3"
    },
    "language_info": {
      "name": "python"
    }
  },
  "cells": [
    {
      "cell_type": "markdown",
      "metadata": {
        "id": "view-in-github",
        "colab_type": "text"
      },
      "source": [
        "<a href=\"https://colab.research.google.com/github/zuikeaidetimo/Kaggle/blob/master/1_1_%EB%8D%B0%EC%9D%B4%ED%84%B0_%EB%B6%84%EC%84%9D%EC%9C%BC%EB%A1%9C_%EC%8B%AC%EB%B6%80%EC%A0%84%EC%A6%9D%EC%9D%84_%EC%98%88%EB%B0%A9%ED%95%A0_%EC%88%98_%EC%9E%88%EC%9D%84%EA%B9%8C.ipynb\" target=\"_parent\"><img src=\"https://colab.research.google.com/assets/colab-badge.svg\" alt=\"Open In Colab\"/></a>"
      ]
    },
    {
      "cell_type": "markdown",
      "metadata": {
        "id": "p6CxMTGcYIqu"
      },
      "source": [
        "## 주제 : 데이터 분석으로 심부전증을 예방할 수 있을까?\n",
        "------------------------------\n",
        "### 실습 가이드\n",
        "```\n",
        "1. 데이터를 다운로드하여 Colab에 불러온다\n",
        "2. 필요한 라이브러리는 모두 코드로 작성\n",
        "3. 코드는 위에서부터 아래로 실행\n",
        "```\n",
        "\n",
        "### 데이터 소개\n",
        "```\n",
        "- 이번 주제는 Heart Failure Prediction 데이터셋을 사용\n",
        "\n",
        "- 다음 1개의 csv 파일을 사용\n",
        "heart_failure-clinical_records_dataset.csv\n",
        "\n",
        "- 각 파일이 컬럼\n",
        "age : 환자의 나이\n",
        "anaemia : 환자의 빈혈증 여부 (0: 정상, 1: 빈혈)\n",
        "creatinine_phosphokinase : 크레아틴키나제 검사 결과\n",
        "diabetes : 당뇨병 여부 (0: 정상, 1: 당뇨)\n",
        "ejection_fraction : 박출계수 (%)\n",
        "high_blood_pressure : 고혈압 여부 (0: 정상, 1: 고혈압)\n",
        "platelets : 혈소판 수 (kiloplatelets/mL)\n",
        "serum_creatinine : 혈중 크레아틴 레벨 (mg/dL)\n",
        "serum_sodium : 혈중 나트륨 레벨 (mEq/L)\n",
        "sex : 성별 (0: 여성, 1: 남성)\n",
        "smoking : 흡연 여부 (0: 비흡연, 1: 흡연)\n",
        "time : 관찰 기간 (일)\n",
        "DEATH_EVENT : 사망 여부 (0: 생존, 1: 사망)\n",
        "```\n",
        "\n"
      ]
    },
    {
      "cell_type": "markdown",
      "metadata": {
        "id": "j8ZdTjwPz7SE"
      },
      "source": [
        "### 의료 데이터 분석의 현재\n",
        "\n",
        "### Accuracy, Precision, 그리고 Recall\n"
      ]
    },
    {
      "cell_type": "code",
      "metadata": {
        "colab": {
          "base_uri": "https://localhost:8080/"
        },
        "id": "sUlD3j8BLjuu",
        "outputId": "e874bc16-b378-480a-ac48-155fea61a5b9"
      },
      "source": [
        "!nvidia-smi"
      ],
      "execution_count": 25,
      "outputs": [
        {
          "output_type": "stream",
          "text": [
            "NVIDIA-SMI has failed because it couldn't communicate with the NVIDIA driver. Make sure that the latest NVIDIA driver is installed and running.\n",
            "\n"
          ],
          "name": "stdout"
        }
      ]
    },
    {
      "cell_type": "markdown",
      "metadata": {
        "id": "7RqdLs3p30UB"
      },
      "source": [
        "### Step 1. 데이터셋 준비하기"
      ]
    },
    {
      "cell_type": "code",
      "metadata": {
        "id": "05aOTaJQ35DW"
      },
      "source": [
        "import pandas as pd\n",
        "import numpy as np\n",
        "import matplotlib.pyplot as plt\n",
        "import seaborn as sns"
      ],
      "execution_count": 26,
      "outputs": []
    },
    {
      "cell_type": "markdown",
      "metadata": {
        "id": "6srZgZdN38A2"
      },
      "source": [
        "### 문제 1. Colab Notebook에 Kaggle API 세팅하기"
      ]
    },
    {
      "cell_type": "code",
      "metadata": {
        "id": "SM2xQY3r4IyB"
      },
      "source": [
        "import os"
      ],
      "execution_count": 27,
      "outputs": []
    },
    {
      "cell_type": "code",
      "metadata": {
        "id": "o7AgxsGv4J_H"
      },
      "source": [
        "# os.environ을 이용하여 Kaggle API Username, Key 세팅하기\n",
        "os.environ['KAGGLE_USERNAME'] = 'zggzggg'\n",
        "os.environ['KAGGLE_KEY'] = '63bef3f17e1117ad05a76be82d3b500f'"
      ],
      "execution_count": 28,
      "outputs": []
    },
    {
      "cell_type": "markdown",
      "metadata": {
        "id": "ZODyjPTL5Cls"
      },
      "source": [
        "### 문제 2. 데이터 다운로드 및 압축 해제하기"
      ]
    },
    {
      "cell_type": "code",
      "metadata": {
        "colab": {
          "base_uri": "https://localhost:8080/"
        },
        "id": "oZotwE-Q5F_g",
        "outputId": "8a0474b0-70e8-48f5-9b3f-31384adbc0da"
      },
      "source": [
        "# Linux 명령어로 Kaggle API를 이용하여 데이터셋 다운로드 하기 (!Kaggle -)\n",
        "# Linux 명령어로 압축 해제하기\n",
        "\n",
        "!kaggle datasets download -d andrewmvd/heart-failure-clinical-data\n",
        "!unzip '*.zip'"
      ],
      "execution_count": null,
      "outputs": [
        {
          "output_type": "stream",
          "text": [
            "heart-failure-clinical-data.zip: Skipping, found more recently modified local copy (use --force to force download)\n",
            "Archive:  heart-failure-clinical-data.zip\n",
            "replace heart_failure_clinical_records_dataset.csv? [y]es, [n]o, [A]ll, [N]one, [r]ename: "
          ],
          "name": "stdout"
        }
      ]
    },
    {
      "cell_type": "code",
      "metadata": {
        "id": "GaG2RANpAulb"
      },
      "source": [
        "!ls"
      ],
      "execution_count": null,
      "outputs": []
    },
    {
      "cell_type": "markdown",
      "metadata": {
        "id": "FzXatIvZ_uog"
      },
      "source": [
        "### 문제 3. Pandas 라이브러리로 csv 파일 읽어들이기"
      ]
    },
    {
      "cell_type": "code",
      "metadata": {
        "id": "hX_jd9sKAysw"
      },
      "source": [
        "# pd.read_csv()로 csv 파일 읽어들이기\n",
        "df = pd.read_csv('heart_failure_clinical_records_dataset.csv')"
      ],
      "execution_count": null,
      "outputs": []
    },
    {
      "cell_type": "markdown",
      "metadata": {
        "id": "chW6h27nEu_Z"
      },
      "source": [
        "### Step 2. EDA 및 데이터 기초 통계 분석"
      ]
    },
    {
      "cell_type": "markdown",
      "metadata": {
        "id": "EqFbYSGRExdt"
      },
      "source": [
        "### 문제 4. 데이터프레임의 각 컬럼 분석하기"
      ]
    },
    {
      "cell_type": "code",
      "metadata": {
        "id": "qWwAaIMjEz5V"
      },
      "source": [
        "# DataFrame에서 제공하는 메소드를 이용하여 컬럼 분석하기(head(), info(), describe())\n",
        "\n",
        "df.head()"
      ],
      "execution_count": null,
      "outputs": []
    },
    {
      "cell_type": "code",
      "metadata": {
        "id": "eqUHX29mH7LN"
      },
      "source": [
        "df.info()"
      ],
      "execution_count": null,
      "outputs": []
    },
    {
      "cell_type": "code",
      "metadata": {
        "id": "7weisV8fH7BC"
      },
      "source": [
        "df.describe()"
      ],
      "execution_count": null,
      "outputs": []
    },
    {
      "cell_type": "markdown",
      "metadata": {
        "id": "CHt51j6JE4I_"
      },
      "source": [
        "### 문제 5. 수치형 데이터의 히스토그램 그리기"
      ]
    },
    {
      "cell_type": "code",
      "metadata": {
        "id": "5yzR8sCYE6bh"
      },
      "source": [
        "# seaborn의 histplot, jointplot, pariplot을 이용해 히스토그램 그리기\n",
        "sns.histplot(x='age', data=df, hue='DEATH_EVENT', kde=True)"
      ],
      "execution_count": null,
      "outputs": []
    },
    {
      "cell_type": "code",
      "metadata": {
        "id": "DNW27DKUJPtx"
      },
      "source": [
        ""
      ],
      "execution_count": null,
      "outputs": []
    },
    {
      "cell_type": "markdown",
      "metadata": {
        "id": "-XaZ5vK9E9Sy"
      },
      "source": [
        "### 문제 6. Boxplot 계열을 이용하여 범주별 통계 확인하기"
      ]
    },
    {
      "cell_type": "code",
      "metadata": {
        "id": "Lx7YwXOzFB9V"
      },
      "source": [
        "# seaborn의 Boxplot 계열(boxplot(), violinplot(), swarmplot())을 사용\n",
        "# Hint) hue 키워드를 사용하여 범주 세분화 가능"
      ],
      "execution_count": null,
      "outputs": []
    },
    {
      "cell_type": "markdown",
      "metadata": {
        "id": "q45KlVuWF1zE"
      },
      "source": [
        "### Step 3. 모델 학습을 위한 데이터 전처리"
      ]
    },
    {
      "cell_type": "markdown",
      "metadata": {
        "id": "hRAFn-RIF4AY"
      },
      "source": [
        "### 문제 7. StandardScaler를 이용하여 데이터 전처리하기"
      ]
    },
    {
      "cell_type": "code",
      "metadata": {
        "id": "lrdb1OyNF6sS"
      },
      "source": [
        "from sklearn.preprocessing import StandardScaler"
      ],
      "execution_count": null,
      "outputs": []
    },
    {
      "cell_type": "code",
      "metadata": {
        "id": "gBB1-t37F-FK"
      },
      "source": [
        "# 수치형 입력 데이터, 범주형 입력 데이터, 출력 데이터로 구분하기\n",
        "X_num = \n",
        "X_cat = \n",
        "y = "
      ],
      "execution_count": null,
      "outputs": []
    },
    {
      "cell_type": "code",
      "metadata": {
        "id": "kBW6B8I9GD1o"
      },
      "source": [
        "# 수치형 입력 데이터를 전처리하고 입력 데이터 통합하기\n",
        "scaler = \n",
        "X = "
      ],
      "execution_count": null,
      "outputs": []
    },
    {
      "cell_type": "markdown",
      "metadata": {
        "id": "3njrGJvQGJFk"
      },
      "source": [
        "### 문제 8. 학습데이터와 테스트데이터 분리하기"
      ]
    },
    {
      "cell_type": "code",
      "metadata": {
        "id": "ApjQbEQbGJoR"
      },
      "source": [
        "from sklearn.model_selection import train_test_split"
      ],
      "execution_count": null,
      "outputs": []
    },
    {
      "cell_type": "code",
      "metadata": {
        "id": "BFC1QG4eGITT"
      },
      "source": [
        "# train_test_split() 함수로 학습 데이터와 테스트 데이터 분리하기\n",
        "X_train, X_test, y_train, y_test = "
      ],
      "execution_count": null,
      "outputs": []
    },
    {
      "cell_type": "markdown",
      "metadata": {
        "id": "PYxHTwpfHZbR"
      },
      "source": [
        "### Step 4. Classificatin 모델 학습하기"
      ]
    },
    {
      "cell_type": "code",
      "metadata": {
        "id": "s9AmFPSaHbmA"
      },
      "source": [
        ""
      ],
      "execution_count": null,
      "outputs": []
    }
  ]
}